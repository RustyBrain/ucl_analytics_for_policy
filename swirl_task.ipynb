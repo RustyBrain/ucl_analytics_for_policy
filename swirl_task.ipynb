{
 "cells": [
  {
   "cell_type": "code",
   "execution_count": 1,
   "metadata": {},
   "outputs": [
    {
     "name": "stderr",
     "output_type": "stream",
     "text": [
      "\n",
      "| Hi! Type swirl() when you are ready to begin.\n",
      "\n",
      "\n"
     ]
    }
   ],
   "source": [
    "library(swirl)"
   ]
  },
  {
   "cell_type": "code",
   "execution_count": 2,
   "metadata": {},
   "outputs": [],
   "source": [
    "swirl()"
   ]
  },
  {
   "cell_type": "code",
   "execution_count": 3,
   "metadata": {},
   "outputs": [
    {
     "data": {
      "text/html": [
       "\n",
       "<table width=\"100%\" summary=\"page for InstallCourses {swirl}\"><tr><td>InstallCourses {swirl}</td><td style=\"text-align: right;\">R Documentation</td></tr></table>\n",
       "\n",
       "<h2>Installing Courses</h2>\n",
       "\n",
       "<h3>Description</h3>\n",
       "\n",
       "<p>swirl is designed so that anyone can create interactive content\n",
       "and share it with the world or with just a few people. Users can\n",
       "install courses from a variety of sources using the \n",
       "functions listed here. Each of these functions has its own help\n",
       "file, which you can consult for more details.\n",
       "</p>\n",
       "\n",
       "\n",
       "<h3>Details</h3>\n",
       "\n",
       "<p>If you're just getting started, we recommend using \n",
       "<code>install_course</code> to install courses\n",
       "from our official <a href=\"https://github.com/swirldev/swirl_courses\">course repository</a>. Otherwise, check out the\n",
       "help file for the relevant install function below.\n",
       "</p>\n",
       "<p>You can uninstall a course from swirl at any time with \n",
       "<code>uninstall_course</code>.\n",
       "</p>\n",
       "<p>Uninstall all courses with\n",
       "<code>uninstall_all_courses</code>.\n",
       "</p>\n",
       "\n",
       "\n",
       "<h3>See Also</h3>\n",
       "\n",
       "<p>Other InstallCourses: \n",
       "<code>install_course_directory()</code>,\n",
       "<code>install_course_dropbox()</code>,\n",
       "<code>install_course_github()</code>,\n",
       "<code>install_course_google_drive()</code>,\n",
       "<code>install_course_url()</code>,\n",
       "<code>install_course_zip()</code>,\n",
       "<code>install_course()</code>,\n",
       "<code>install_from_swirl()</code>,\n",
       "<code>uninstall_all_courses()</code>,\n",
       "<code>uninstall_course()</code>,\n",
       "<code>zip_course()</code>\n",
       "</p>\n",
       "\n",
       "<hr /><div style=\"text-align: center;\">[Package <em>swirl</em> version 2.4.5 ]</div>"
      ],
      "text/latex": [
       "\\inputencoding{utf8}\n",
       "\\HeaderA{InstallCourses}{Installing Courses}{InstallCourses}\n",
       "%\n",
       "\\begin{Description}\\relax\n",
       "swirl is designed so that anyone can create interactive content\n",
       "and share it with the world or with just a few people. Users can\n",
       "install courses from a variety of sources using the \n",
       "functions listed here. Each of these functions has its own help\n",
       "file, which you can consult for more details.\n",
       "\\end{Description}\n",
       "%\n",
       "\\begin{Details}\\relax\n",
       "If you're just getting started, we recommend using \n",
       "\\code{\\LinkA{install\\_course}{install.Rul.course}} to install courses\n",
       "from our official \\Rhref{https://github.com/swirldev/swirl_courses}{course repository}. Otherwise, check out the\n",
       "help file for the relevant install function below.\n",
       "\n",
       "You can uninstall a course from swirl at any time with \n",
       "\\code{\\LinkA{uninstall\\_course}{uninstall.Rul.course}}.\n",
       "\n",
       "Uninstall all courses with\n",
       "\\code{\\LinkA{uninstall\\_all\\_courses}{uninstall.Rul.all.Rul.courses}}.\n",
       "\\end{Details}\n",
       "%\n",
       "\\begin{SeeAlso}\\relax\n",
       "Other InstallCourses: \n",
       "\\code{\\LinkA{install\\_course\\_directory}{install.Rul.course.Rul.directory}()},\n",
       "\\code{\\LinkA{install\\_course\\_dropbox}{install.Rul.course.Rul.dropbox}()},\n",
       "\\code{\\LinkA{install\\_course\\_github}{install.Rul.course.Rul.github}()},\n",
       "\\code{\\LinkA{install\\_course\\_google\\_drive}{install.Rul.course.Rul.google.Rul.drive}()},\n",
       "\\code{\\LinkA{install\\_course\\_url}{install.Rul.course.Rul.url}()},\n",
       "\\code{\\LinkA{install\\_course\\_zip}{install.Rul.course.Rul.zip}()},\n",
       "\\code{\\LinkA{install\\_course}{install.Rul.course}()},\n",
       "\\code{\\LinkA{install\\_from\\_swirl}{install.Rul.from.Rul.swirl}()},\n",
       "\\code{\\LinkA{uninstall\\_all\\_courses}{uninstall.Rul.all.Rul.courses}()},\n",
       "\\code{\\LinkA{uninstall\\_course}{uninstall.Rul.course}()},\n",
       "\\code{\\LinkA{zip\\_course}{zip.Rul.course}()}\n",
       "\\end{SeeAlso}"
      ],
      "text/plain": [
       "InstallCourses              package:swirl              R Documentation\n",
       "\n",
       "_\bI_\bn_\bs_\bt_\ba_\bl_\bl_\bi_\bn_\bg _\bC_\bo_\bu_\br_\bs_\be_\bs\n",
       "\n",
       "_\bD_\be_\bs_\bc_\br_\bi_\bp_\bt_\bi_\bo_\bn:\n",
       "\n",
       "     swirl is designed so that anyone can create interactive content\n",
       "     and share it with the world or with just a few people. Users can\n",
       "     install courses from a variety of sources using the functions\n",
       "     listed here. Each of these functions has its own help file, which\n",
       "     you can consult for more details.\n",
       "\n",
       "_\bD_\be_\bt_\ba_\bi_\bl_\bs:\n",
       "\n",
       "     If you're just getting started, we recommend using\n",
       "     ‘install_course’ to install courses from our official course\n",
       "     repository. Otherwise, check out the help file for the relevant\n",
       "     install function below.\n",
       "\n",
       "     You can uninstall a course from swirl at any time with\n",
       "     ‘uninstall_course’.\n",
       "\n",
       "     Uninstall all courses with ‘uninstall_all_courses’.\n",
       "\n",
       "_\bS_\be_\be _\bA_\bl_\bs_\bo:\n",
       "\n",
       "     Other InstallCourses: ‘install_course_directory()’,\n",
       "     ‘install_course_dropbox()’, ‘install_course_github()’,\n",
       "     ‘install_course_google_drive()’, ‘install_course_url()’,\n",
       "     ‘install_course_zip()’, ‘install_course()’,\n",
       "     ‘install_from_swirl()’, ‘uninstall_all_courses()’,\n",
       "     ‘uninstall_course()’, ‘zip_course()’\n"
      ]
     },
     "metadata": {},
     "output_type": "display_data"
    }
   ],
   "source": [
    "?InstallCourses"
   ]
  },
  {
   "cell_type": "code",
   "execution_count": 4,
   "metadata": {},
   "outputs": [
    {
     "name": "stdout",
     "output_type": "stream",
     "text": [
      "  |======================================================================| 100%\n"
     ]
    },
    {
     "name": "stderr",
     "output_type": "stream",
     "text": [
      "\n",
      "| Course installed successfully!\n",
      "\n",
      "\n"
     ]
    }
   ],
   "source": [
    "install_course(\"R Programming\")"
   ]
  },
  {
   "cell_type": "code",
   "execution_count": null,
   "metadata": {},
   "outputs": [],
   "source": []
  }
 ],
 "metadata": {
  "kernelspec": {
   "display_name": "R",
   "language": "R",
   "name": "ir"
  },
  "language_info": {
   "codemirror_mode": "r",
   "file_extension": ".r",
   "mimetype": "text/x-r-source",
   "name": "R",
   "pygments_lexer": "r",
   "version": "3.5.2"
  }
 },
 "nbformat": 4,
 "nbformat_minor": 4
}
