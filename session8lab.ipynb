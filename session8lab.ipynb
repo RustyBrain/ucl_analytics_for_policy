{
 "cells": [
  {
   "cell_type": "code",
   "execution_count": 2,
   "metadata": {},
   "outputs": [],
   "source": [
    "library(tidyverse)\n",
    "library(network)\n",
    "library(RColorBrewer)\n",
    "library(sna)"
   ]
  },
  {
   "cell_type": "code",
   "execution_count": 3,
   "metadata": {},
   "outputs": [
    {
     "name": "stderr",
     "output_type": "stream",
     "text": [
      "Parsed with column specification:\n",
      "cols(\n",
      "  Source = \u001b[31mcol_character()\u001b[39m,\n",
      "  Target = \u001b[31mcol_character()\u001b[39m,\n",
      "  weight = \u001b[32mcol_double()\u001b[39m\n",
      ")\n",
      "\n",
      "Parsed with column specification:\n",
      "cols(\n",
      "  Name = \u001b[31mcol_character()\u001b[39m,\n",
      "  Height = \u001b[32mcol_double()\u001b[39m,\n",
      "  Age = \u001b[32mcol_double()\u001b[39m\n",
      ")\n",
      "\n"
     ]
    }
   ],
   "source": [
    "edges <- read_csv('lab_data/sample_edgelist.csv')\n",
    "nodes <- read_csv('lab_data/sample_attrib.csv')"
   ]
  },
  {
   "cell_type": "code",
   "execution_count": 4,
   "metadata": {},
   "outputs": [],
   "source": [
    "example_network <- as.network(edges, matrix.type = \"edgelist\")"
   ]
  },
  {
   "cell_type": "code",
   "execution_count": 5,
   "metadata": {},
   "outputs": [
    {
     "data": {
      "text/html": [
       "<table>\n",
       "<caption>A tibble: 6 × 3</caption>\n",
       "<thead>\n",
       "\t<tr><th scope=col>Name</th><th scope=col>Height</th><th scope=col>Age</th></tr>\n",
       "\t<tr><th scope=col>&lt;chr&gt;</th><th scope=col>&lt;dbl&gt;</th><th scope=col>&lt;dbl&gt;</th></tr>\n",
       "</thead>\n",
       "<tbody>\n",
       "\t<tr><td>Adam   </td><td>1.65</td><td>30</td></tr>\n",
       "\t<tr><td>Gina   </td><td>1.58</td><td>24</td></tr>\n",
       "\t<tr><td>Charles</td><td>1.70</td><td>35</td></tr>\n",
       "\t<tr><td>Daniel </td><td>1.58</td><td>26</td></tr>\n",
       "\t<tr><td>Frank  </td><td>1.65</td><td>25</td></tr>\n",
       "\t<tr><td>Betty  </td><td>1.58</td><td>28</td></tr>\n",
       "</tbody>\n",
       "</table>\n"
      ],
      "text/latex": [
       "A tibble: 6 × 3\n",
       "\\begin{tabular}{lll}\n",
       " Name & Height & Age\\\\\n",
       " <chr> & <dbl> & <dbl>\\\\\n",
       "\\hline\n",
       "\t Adam    & 1.65 & 30\\\\\n",
       "\t Gina    & 1.58 & 24\\\\\n",
       "\t Charles & 1.70 & 35\\\\\n",
       "\t Daniel  & 1.58 & 26\\\\\n",
       "\t Frank   & 1.65 & 25\\\\\n",
       "\t Betty   & 1.58 & 28\\\\\n",
       "\\end{tabular}\n"
      ],
      "text/markdown": [
       "\n",
       "A tibble: 6 × 3\n",
       "\n",
       "| Name &lt;chr&gt; | Height &lt;dbl&gt; | Age &lt;dbl&gt; |\n",
       "|---|---|---|\n",
       "| Adam    | 1.65 | 30 |\n",
       "| Gina    | 1.58 | 24 |\n",
       "| Charles | 1.70 | 35 |\n",
       "| Daniel  | 1.58 | 26 |\n",
       "| Frank   | 1.65 | 25 |\n",
       "| Betty   | 1.58 | 28 |\n",
       "\n"
      ],
      "text/plain": [
       "  Name    Height Age\n",
       "1 Adam    1.65   30 \n",
       "2 Gina    1.58   24 \n",
       "3 Charles 1.70   35 \n",
       "4 Daniel  1.58   26 \n",
       "5 Frank   1.65   25 \n",
       "6 Betty   1.58   28 "
      ]
     },
     "metadata": {},
     "output_type": "display_data"
    }
   ],
   "source": [
    "head(nodes)"
   ]
  },
  {
   "cell_type": "code",
   "execution_count": 7,
   "metadata": {},
   "outputs": [
    {
     "data": {
      "text/html": [
       "<table>\n",
       "<caption>A tibble: 6 × 3</caption>\n",
       "<thead>\n",
       "\t<tr><th scope=col>Source</th><th scope=col>Target</th><th scope=col>weight</th></tr>\n",
       "\t<tr><th scope=col>&lt;chr&gt;</th><th scope=col>&lt;chr&gt;</th><th scope=col>&lt;dbl&gt;</th></tr>\n",
       "</thead>\n",
       "<tbody>\n",
       "\t<tr><td>Adam  </td><td>Betty  </td><td>1</td></tr>\n",
       "\t<tr><td>Adam  </td><td>Daniel </td><td>1</td></tr>\n",
       "\t<tr><td>Adam  </td><td>Frank  </td><td>4</td></tr>\n",
       "\t<tr><td>Anders</td><td>Frank  </td><td>2</td></tr>\n",
       "\t<tr><td>Betty </td><td>Charles</td><td>3</td></tr>\n",
       "\t<tr><td>Betty </td><td>Daniel </td><td>1</td></tr>\n",
       "</tbody>\n",
       "</table>\n"
      ],
      "text/latex": [
       "A tibble: 6 × 3\n",
       "\\begin{tabular}{lll}\n",
       " Source & Target & weight\\\\\n",
       " <chr> & <chr> & <dbl>\\\\\n",
       "\\hline\n",
       "\t Adam   & Betty   & 1\\\\\n",
       "\t Adam   & Daniel  & 1\\\\\n",
       "\t Adam   & Frank   & 4\\\\\n",
       "\t Anders & Frank   & 2\\\\\n",
       "\t Betty  & Charles & 3\\\\\n",
       "\t Betty  & Daniel  & 1\\\\\n",
       "\\end{tabular}\n"
      ],
      "text/markdown": [
       "\n",
       "A tibble: 6 × 3\n",
       "\n",
       "| Source &lt;chr&gt; | Target &lt;chr&gt; | weight &lt;dbl&gt; |\n",
       "|---|---|---|\n",
       "| Adam   | Betty   | 1 |\n",
       "| Adam   | Daniel  | 1 |\n",
       "| Adam   | Frank   | 4 |\n",
       "| Anders | Frank   | 2 |\n",
       "| Betty  | Charles | 3 |\n",
       "| Betty  | Daniel  | 1 |\n",
       "\n"
      ],
      "text/plain": [
       "  Source Target  weight\n",
       "1 Adam   Betty   1     \n",
       "2 Adam   Daniel  1     \n",
       "3 Adam   Frank   4     \n",
       "4 Anders Frank   2     \n",
       "5 Betty  Charles 3     \n",
       "6 Betty  Daniel  1     "
      ]
     },
     "metadata": {},
     "output_type": "display_data"
    }
   ],
   "source": [
    "head(edges)"
   ]
  },
  {
   "cell_type": "code",
   "execution_count": 8,
   "metadata": {},
   "outputs": [],
   "source": [
    "nodes %>% arrange(Name) -> nodes\n",
    "set.vertex.attribute(example_network, 'height', as.numeric(nodes$Height))\n",
    "set.vertex.attribute(example_network, 'age', as.numeric(nodes$Age))\n",
    "set.edge.attribute(example_network, 'weight', as.numeric(edges$weight))"
   ]
  },
  {
   "cell_type": "code",
   "execution_count": 9,
   "metadata": {},
   "outputs": [
    {
     "data": {
      "text/html": [
       "<ol class=list-inline>\n",
       "\t<li>'Adam'</li>\n",
       "\t<li>'Anders'</li>\n",
       "\t<li>'Betty'</li>\n",
       "\t<li>'Blue'</li>\n",
       "\t<li>'Carlie'</li>\n",
       "\t<li>'Charles'</li>\n",
       "\t<li>'Daniel'</li>\n",
       "\t<li>'Ebba'</li>\n",
       "\t<li>'Eleri'</li>\n",
       "\t<li>'Esme'</li>\n",
       "\t<li>'Esther'</li>\n",
       "\t<li>'Fanfan'</li>\n",
       "\t<li>'Farida'</li>\n",
       "\t<li>'Flo'</li>\n",
       "\t<li>'Frank'</li>\n",
       "\t<li>'Geri'</li>\n",
       "\t<li>'Gina'</li>\n",
       "\t<li>'Hristo'</li>\n",
       "\t<li>'Jennie'</li>\n",
       "\t<li>'Jim'</li>\n",
       "\t<li>'Jorge'</li>\n",
       "\t<li>'Julie'</li>\n",
       "\t<li>'Justin'</li>\n",
       "\t<li>'Kamar'</li>\n",
       "\t<li>'Kathryn'</li>\n",
       "\t<li>'Maame'</li>\n",
       "\t<li>'Madeline'</li>\n",
       "\t<li>'Maria'</li>\n",
       "\t<li>'Mariam'</li>\n",
       "\t<li>'Mathilde'</li>\n",
       "\t<li>'Michele'</li>\n",
       "\t<li>'Nick'</li>\n",
       "\t<li>'Nina'</li>\n",
       "\t<li>'Pablo'</li>\n",
       "\t<li>'Penny'</li>\n",
       "\t<li>'Skye'</li>\n",
       "\t<li>'Sophia'</li>\n",
       "\t<li>'Suzie'</li>\n",
       "\t<li>'Thomas'</li>\n",
       "\t<li>'Tobie'</li>\n",
       "</ol>\n"
      ],
      "text/latex": [
       "\\begin{enumerate*}\n",
       "\\item 'Adam'\n",
       "\\item 'Anders'\n",
       "\\item 'Betty'\n",
       "\\item 'Blue'\n",
       "\\item 'Carlie'\n",
       "\\item 'Charles'\n",
       "\\item 'Daniel'\n",
       "\\item 'Ebba'\n",
       "\\item 'Eleri'\n",
       "\\item 'Esme'\n",
       "\\item 'Esther'\n",
       "\\item 'Fanfan'\n",
       "\\item 'Farida'\n",
       "\\item 'Flo'\n",
       "\\item 'Frank'\n",
       "\\item 'Geri'\n",
       "\\item 'Gina'\n",
       "\\item 'Hristo'\n",
       "\\item 'Jennie'\n",
       "\\item 'Jim'\n",
       "\\item 'Jorge'\n",
       "\\item 'Julie'\n",
       "\\item 'Justin'\n",
       "\\item 'Kamar'\n",
       "\\item 'Kathryn'\n",
       "\\item 'Maame'\n",
       "\\item 'Madeline'\n",
       "\\item 'Maria'\n",
       "\\item 'Mariam'\n",
       "\\item 'Mathilde'\n",
       "\\item 'Michele'\n",
       "\\item 'Nick'\n",
       "\\item 'Nina'\n",
       "\\item 'Pablo'\n",
       "\\item 'Penny'\n",
       "\\item 'Skye'\n",
       "\\item 'Sophia'\n",
       "\\item 'Suzie'\n",
       "\\item 'Thomas'\n",
       "\\item 'Tobie'\n",
       "\\end{enumerate*}\n"
      ],
      "text/markdown": [
       "1. 'Adam'\n",
       "2. 'Anders'\n",
       "3. 'Betty'\n",
       "4. 'Blue'\n",
       "5. 'Carlie'\n",
       "6. 'Charles'\n",
       "7. 'Daniel'\n",
       "8. 'Ebba'\n",
       "9. 'Eleri'\n",
       "10. 'Esme'\n",
       "11. 'Esther'\n",
       "12. 'Fanfan'\n",
       "13. 'Farida'\n",
       "14. 'Flo'\n",
       "15. 'Frank'\n",
       "16. 'Geri'\n",
       "17. 'Gina'\n",
       "18. 'Hristo'\n",
       "19. 'Jennie'\n",
       "20. 'Jim'\n",
       "21. 'Jorge'\n",
       "22. 'Julie'\n",
       "23. 'Justin'\n",
       "24. 'Kamar'\n",
       "25. 'Kathryn'\n",
       "26. 'Maame'\n",
       "27. 'Madeline'\n",
       "28. 'Maria'\n",
       "29. 'Mariam'\n",
       "30. 'Mathilde'\n",
       "31. 'Michele'\n",
       "32. 'Nick'\n",
       "33. 'Nina'\n",
       "34. 'Pablo'\n",
       "35. 'Penny'\n",
       "36. 'Skye'\n",
       "37. 'Sophia'\n",
       "38. 'Suzie'\n",
       "39. 'Thomas'\n",
       "40. 'Tobie'\n",
       "\n",
       "\n"
      ],
      "text/plain": [
       " [1] \"Adam\"     \"Anders\"   \"Betty\"    \"Blue\"     \"Carlie\"   \"Charles\" \n",
       " [7] \"Daniel\"   \"Ebba\"     \"Eleri\"    \"Esme\"     \"Esther\"   \"Fanfan\"  \n",
       "[13] \"Farida\"   \"Flo\"      \"Frank\"    \"Geri\"     \"Gina\"     \"Hristo\"  \n",
       "[19] \"Jennie\"   \"Jim\"      \"Jorge\"    \"Julie\"    \"Justin\"   \"Kamar\"   \n",
       "[25] \"Kathryn\"  \"Maame\"    \"Madeline\" \"Maria\"    \"Mariam\"   \"Mathilde\"\n",
       "[31] \"Michele\"  \"Nick\"     \"Nina\"     \"Pablo\"    \"Penny\"    \"Skye\"    \n",
       "[37] \"Sophia\"   \"Suzie\"    \"Thomas\"   \"Tobie\"   "
      ]
     },
     "metadata": {},
     "output_type": "display_data"
    }
   ],
   "source": [
    "get.vertex.attribute(example_network, \"vertex.names\")"
   ]
  },
  {
   "cell_type": "code",
   "execution_count": 13,
   "metadata": {},
   "outputs": [
    {
     "name": "stderr",
     "output_type": "stream",
     "text": [
      "\n",
      "Attaching package: ‘GGally’\n",
      "\n",
      "\n",
      "The following object is masked from ‘package:dplyr’:\n",
      "\n",
      "    nasa\n",
      "\n",
      "\n"
     ]
    }
   ],
   "source": [
    "library(GGally)"
   ]
  },
  {
   "cell_type": "code",
   "execution_count": 37,
   "metadata": {},
   "outputs": [
    {
     "data": {
      "image/png": "[encoded data removed]",
      "text/plain": [
       "plot without title"
      ]
     },
     "metadata": {
      "image/png": {
       "height": 420,
       "width": 420
      },
      "text/plain": {
       "height": 420,
       "width": 420
      }
     },
     "output_type": "display_data"
    }
   ],
   "source": [
    "ggnet2(example_network, mode = 'spring', size = prestige(example_network, cmode = 'eigenvector') * 100, label=TRUE, label.size = 3, legend.position = \"none\")"
   ]
  },
  {
   "cell_type": "code",
   "execution_count": 19,
   "metadata": {},
   "outputs": [
    {
     "data": {
      "text/plain": [
       " Network attributes:\n",
       "  vertices = 40 \n",
       "  directed = TRUE \n",
       "  hyper = FALSE \n",
       "  loops = FALSE \n",
       "  multiple = FALSE \n",
       "  bipartite = FALSE \n",
       "  total edges= 62 \n",
       "    missing edges= 0 \n",
       "    non-missing edges= 62 \n",
       "\n",
       " Vertex attribute names: \n",
       "    age height vertex.names \n",
       "\n",
       " Edge attribute names: \n",
       "    weight "
      ]
     },
     "metadata": {},
     "output_type": "display_data"
    }
   ],
   "source": [
    "example_network"
   ]
  }
 ],
 "metadata": {
  "kernelspec": {
   "display_name": "R",
   "language": "R",
   "name": "ir"
  },
  "language_info": {
   "codemirror_mode": "r",
   "file_extension": ".r",
   "mimetype": "text/x-r-source",
   "name": "R",
   "pygments_lexer": "r",
   "version": "3.5.2"
  }
 },
 "nbformat": 4,
 "nbformat_minor": 4
}
